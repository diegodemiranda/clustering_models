{
  "nbformat": 4,
  "nbformat_minor": 0,
  "metadata": {
    "colab": {
      "provenance": [],
      "authorship_tag": "ABX9TyPgXBQ/IKreo5UcOElo0QYC",
      "include_colab_link": true
    },
    "kernelspec": {
      "name": "python3",
      "display_name": "Python 3"
    },
    "language_info": {
      "name": "python"
    }
  },
  "cells": [
    {
      "cell_type": "markdown",
      "metadata": {
        "id": "view-in-github",
        "colab_type": "text"
      },
      "source": [
        "<a href=\"https://colab.research.google.com/github/diegodemiranda/clustering_models/blob/main/east_west_airlines/k_means_east_west_airlines.ipynb\" target=\"_parent\"><img src=\"https://colab.research.google.com/assets/colab-badge.svg\" alt=\"Open In Colab\"/></a>"
      ]
    },
    {
      "cell_type": "code",
      "execution_count": null,
      "metadata": {
        "id": "nDzMgXF_D0D2"
      },
      "outputs": [],
      "source": [
        "import matplotlib.pyplot as plt\n",
        "import pandas as pd\n",
        "from scipy.stats.mstats import winsorize\n",
        "from sklearn import preprocessing\n",
        "from sklearn.cluster import KMeans\n",
        "\n",
        "\n",
        "def tratamentoOutliers(air):\n",
        "    # Retirando os OUTLIERS do banco de dados através do comando winsorize da biblioteca scipy\n",
        "    # Limites para a winsorização\n",
        "    limits = [0.05, 0.095]\n",
        "    # Lista das colunas a serem tratadas\n",
        "    columns = air.columns\n",
        "    columns = columns.drop(['ID'], ['Award'])\n",
        "    for column in columns:\n",
        "        air[column] = winsorize(air[column], limits=limits)\n",
        "\n",
        "\n",
        "# Trazendo o dataset\n",
        "air = pd.read_csv(\"east_west_airlines.csv\")\n",
        "\n",
        "# Chamando a função de tratamento dos dados: Outliers\n",
        "tratamentoOutliers(air)\n",
        "\n",
        "# Verificar se existem campos nulos no nosso dataset e exclui a respectiva coluna\n",
        "print((air == 0).all())\n",
        "air1 = air\n",
        "air1.drop([\"Qual_miles\"], axis=1, inplace=True)\n",
        "\n",
        "# Normalizando o dataset\n",
        "air_normalized = preprocessing.normalize(air1)\n",
        "\n",
        "# MÉTODO K-MEANS\n",
        "TWSS = []\n",
        "k = list(range(2, 10))  # Variando k entre uma faixa de valores para verificar o mais adequado\n",
        "\n",
        "for i in k:\n",
        "    kmeans = KMeans(n_clusters=i).fit(air_normalized)  # Fit dos dados do dataset\n",
        "    TWSS.append(\n",
        "        kmeans.inertia_)  # Salvando a 'Soma dos Quadrados' entre os pontos e o cluster principal de cada iteração\n",
        "\n",
        "# Plotando a convergência do modelo X número de Clusters\n",
        "plt.plot(k, TWSS, 'ro-')\n",
        "plt.xlabel(\"Número de Clusters\")\n",
        "plt.ylabel(\"Distancia (Soma dos Quadrados)\")\n",
        "plt.show()\n",
        "\n",
        "# Verificando qual o melhor valor de k a ser escolhido\n",
        "\n",
        "# Plotar os dados divididos em clusters\n",
        "fig, axs = plt.subplots(2, 2, figsize=(10, 10))\n",
        "axs = axs.flatten()\n",
        "\n",
        "k_values = [3, 4, 5, 6]\n",
        "labels = []\n",
        "for i, k in enumerate(k_values):\n",
        "    # Chamando k-means de acordo com o valor de k desejado\n",
        "    model = KMeans(n_clusters=k).fit(air_normalized)  # Fit dos dados\n",
        "    labels.append(model.labels_)  # Rótulo dado pelo 'K-Means' para cada um dos passageiros\n",
        "\n",
        "    # Convertendo numpy array em pandas object\n",
        "    mb = pd.Series(model.labels_)\n",
        "\n",
        "    # Trazendo o DataSet original\n",
        "    air1 = pd.read_csv(\"EastWestAirlines.csv\")\n",
        "    air1['cluster'] = mb  # Criando uma nova coluna 'cluster' e adicionando os rótulos a ela\n",
        "\n",
        "    # Fazendo de 'cluster' a coluna primária e depois o dataset segue como original\n",
        "    air = air1.iloc[:, [12, 0, 1, 2, 3, 4, 5, 6, 7, 8, 9, 10, 11]]\n",
        "\n",
        "    # Agrupando os usuários de acordo com seus rótulos, ou seja, usuários que se assemelham fazem parte de um mesmo\n",
        "    # cluster\n",
        "    air.iloc[:, 1:12].groupby(air.cluster).mean()\n",
        "\n",
        "    # Salvar 'air_means' em um arquivo Excel com o valor de k no nome do arquivo\n",
        "    # air.to_excel(f'resultado_clusters_k{k}.xlsx', index=False)\n",
        "\n",
        "for i, label in enumerate(labels):\n",
        "    axs[i].scatter(air_normalized[:, 0], air_normalized[:, 1], c=label, cmap='viridis')\n",
        "    axs[i].set_title(f'Clusters para k={k_values[i]}')\n",
        "\n",
        "plt.tight_layout()\n",
        "plt.show()"
      ]
    }
  ]
}